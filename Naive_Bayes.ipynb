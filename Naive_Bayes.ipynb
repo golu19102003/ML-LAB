{
  "nbformat": 4,
  "nbformat_minor": 0,
  "metadata": {
    "colab": {
      "provenance": [],
      "authorship_tag": "ABX9TyPlu9/xwwCK7j+2bjUFKRAu",
      "include_colab_link": true
    },
    "kernelspec": {
      "name": "python3",
      "display_name": "Python 3"
    },
    "language_info": {
      "name": "python"
    }
  },
  "cells": [
    {
      "cell_type": "markdown",
      "metadata": {
        "id": "view-in-github",
        "colab_type": "text"
      },
      "source": [
        "<a href=\"https://colab.research.google.com/github/golu19102003/ML-LAB/blob/main/Naive_Bayes.ipynb\" target=\"_parent\"><img src=\"https://colab.research.google.com/assets/colab-badge.svg\" alt=\"Open In Colab\"/></a>"
      ]
    },
    {
      "cell_type": "code",
      "execution_count": null,
      "metadata": {
        "colab": {
          "base_uri": "https://localhost:8080/"
        },
        "id": "JFRsU3ko7YBe",
        "outputId": "091f22fb-0495-410b-a615-e7d5d2ab2055"
      },
      "outputs": [
        {
          "output_type": "stream",
          "name": "stdout",
          "text": [
            "[Errno 2] No such file or directory: '/content/drive/MyDrive/'\n",
            "/content\n"
          ]
        }
      ],
      "source": [
        "from google.colab import drive\n",
        "%cd /content/drive/MyDrive/"
      ]
    },
    {
      "cell_type": "code",
      "source": [
        "drive.mount('/content/drive')"
      ],
      "metadata": {
        "colab": {
          "base_uri": "https://localhost:8080/"
        },
        "id": "icA97Jqj7crv",
        "outputId": "f9fada86-60ad-41c5-9c43-3a7a6db219ba"
      },
      "execution_count": null,
      "outputs": [
        {
          "output_type": "stream",
          "name": "stdout",
          "text": [
            "Mounted at /content/drive\n"
          ]
        }
      ]
    },
    {
      "cell_type": "code",
      "source": [
        "!mkdir mydata\n",
        "%cd mydata"
      ],
      "metadata": {
        "colab": {
          "base_uri": "https://localhost:8080/"
        },
        "id": "ImgbyS_S7hB4",
        "outputId": "959916bd-dff4-4362-c77a-b7cc34508735"
      },
      "execution_count": null,
      "outputs": [
        {
          "output_type": "stream",
          "name": "stdout",
          "text": [
            "/content/mydata\n"
          ]
        }
      ]
    },
    {
      "cell_type": "code",
      "source": [
        "import pandas as pd\n",
        "msg = pd.read_csv(\"/content/drive/MyDrive/naivetext .csv\", names = ['message','label'])\n",
        "print('The dimmension of the dataset ', msg.shape)\n",
        "msg['labelnum'] = msg.label.map({'pos':1, 'neg':0})\n",
        "X = msg.message\n",
        "y = msg.labelnum\n",
        "print(X)\n",
        "print(y)"
      ],
      "metadata": {
        "colab": {
          "base_uri": "https://localhost:8080/"
        },
        "id": "G5aHEV5y8CqW",
        "outputId": "2e079f70-aa2e-42bc-f40e-19b8801bcd7e"
      },
      "execution_count": null,
      "outputs": [
        {
          "output_type": "stream",
          "name": "stdout",
          "text": [
            "The dimmension of the dataset  (18, 2)\n",
            "0                      I love this sandwich\n",
            "1                  This is an amazing place\n",
            "2        I feel very good about these beers\n",
            "3                      This is my best work\n",
            "4                      What an awesome view\n",
            "5             I do not like this restaurant\n",
            "6                  I am tired of this stuff\n",
            "7                    I can't deal with this\n",
            "8                      He is my sworn enemy\n",
            "9                       My boss is horrible\n",
            "10                 This is an awesome place\n",
            "11    I do not like the taste of this juice\n",
            "12                          I love to dance\n",
            "13        I am sick and tired of this place\n",
            "14                     What a great holiday\n",
            "15           That is a bad locality to stay\n",
            "16           We will have good fun tomorrow\n",
            "17         I went to my enemy's house today\n",
            "Name: message, dtype: object\n",
            "0     1\n",
            "1     1\n",
            "2     1\n",
            "3     1\n",
            "4     1\n",
            "5     0\n",
            "6     0\n",
            "7     0\n",
            "8     0\n",
            "9     0\n",
            "10    1\n",
            "11    0\n",
            "12    1\n",
            "13    0\n",
            "14    1\n",
            "15    0\n",
            "16    1\n",
            "17    0\n",
            "Name: labelnum, dtype: int64\n"
          ]
        }
      ]
    },
    {
      "cell_type": "code",
      "source": [
        "from sklearn.model_selection import train_test_split\n",
        "xtrain, xtest, ytrain, ytest = train_test_split(X, y,test_size=0.20)\n",
        "\n",
        "print('\\n the total number of training data ',ytrain.shape)\n",
        "print('\\n the total number of testing data ',ytest.shape)"
      ],
      "metadata": {
        "colab": {
          "base_uri": "https://localhost:8080/"
        },
        "id": "255xDVVm8lzz",
        "outputId": "73287eb6-8c5f-48e9-8c92-ef843b2bb98e"
      },
      "execution_count": null,
      "outputs": [
        {
          "output_type": "stream",
          "name": "stdout",
          "text": [
            "\n",
            " the total number of training data  (14,)\n",
            "\n",
            " the total number of testing data  (4,)\n"
          ]
        }
      ]
    },
    {
      "cell_type": "code",
      "source": [
        "import numpy as np\n",
        "from sklearn.feature_extraction.text import CountVectorizer\n",
        "count_vect = CountVectorizer()\n",
        "xtrain_dtm = count_vect.fit_transform(xtrain)\n",
        "xtest_dtm = count_vect.transform(xtest)\n",
        "index = count_vect.get_feature_names_out()\n",
        "print('\\n The words or Tokens in the text documents \\n')\n",
        "print(count_vect.get_feature_names_out())\n",
        "df = pd.DataFrame(xtrain_dtm.toarray(), columns = count_vect.get_feature_names_out())\n"
      ],
      "metadata": {
        "colab": {
          "base_uri": "https://localhost:8080/"
        },
        "id": "PvXtCdUm8md_",
        "outputId": "3504f132-9f6a-48f0-99be-082defa75d22"
      },
      "execution_count": null,
      "outputs": [
        {
          "output_type": "stream",
          "name": "stdout",
          "text": [
            "\n",
            " The words or Tokens in the text documents \n",
            "\n",
            "['about' 'am' 'amazing' 'an' 'and' 'awesome' 'beers' 'best' 'can' 'dance'\n",
            " 'deal' 'do' 'enemy' 'feel' 'good' 'great' 'he' 'holiday' 'is' 'juice'\n",
            " 'like' 'love' 'my' 'not' 'of' 'place' 'restaurant' 'sandwich' 'sick'\n",
            " 'stuff' 'sworn' 'taste' 'the' 'these' 'this' 'tired' 'to' 'very' 'view'\n",
            " 'what' 'with' 'work']\n"
          ]
        }
      ]
    },
    {
      "cell_type": "code",
      "source": [
        "\n",
        "from sklearn.naive_bayes import MultinomialNB\n",
        "clf = MultinomialNB()\n",
        "clf.fit(xtrain_dtm,ytrain)\n",
        "predicted = clf.predict(xtest_dtm)"
      ],
      "metadata": {
        "id": "C5zLBW6F8qsU"
      },
      "execution_count": null,
      "outputs": []
    },
    {
      "cell_type": "code",
      "source": [
        "from sklearn import metrics\n",
        "print('\\n Accuracy of the classifier is ', metrics.accuracy_score(ytest, predicted))\n",
        "print('\\n confusion matrix')\n",
        "print(metrics.confusion_matrix(ytest, predicted))\n",
        "print('\\n The value of Precision', metrics.precision_score(ytest, predicted))\n",
        "print('\\n The value of Recall', metrics.recall_score(ytest, predicted))"
      ],
      "metadata": {
        "colab": {
          "base_uri": "https://localhost:8080/"
        },
        "id": "njX2N_q8836u",
        "outputId": "fc6f3e1f-5693-4c81-adf4-25c53d512425"
      },
      "execution_count": null,
      "outputs": [
        {
          "output_type": "stream",
          "name": "stdout",
          "text": [
            "\n",
            " Accuracy of the classifier is  0.25\n",
            "\n",
            " confusion matrix\n",
            "[[0 3]\n",
            " [0 1]]\n",
            "\n",
            " The value of Precision 0.25\n",
            "\n",
            " The value of Recall 1.0\n"
          ]
        }
      ]
    },
    {
      "cell_type": "code",
      "source": [],
      "metadata": {
        "id": "XAY5xNus9YIv"
      },
      "execution_count": null,
      "outputs": []
    }
  ]
}