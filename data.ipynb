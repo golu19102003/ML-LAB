{
  "nbformat": 4,
  "nbformat_minor": 0,
  "metadata": {
    "colab": {
      "provenance": [],
      "authorship_tag": "ABX9TyMl3HBtk1sj3rv7Ut2bg17A",
      "include_colab_link": true
    },
    "kernelspec": {
      "name": "python3",
      "display_name": "Python 3"
    },
    "language_info": {
      "name": "python"
    }
  },
  "cells": [
    {
      "cell_type": "markdown",
      "metadata": {
        "id": "view-in-github",
        "colab_type": "text"
      },
      "source": [
        "<a href=\"https://colab.research.google.com/github/golu19102003/ML-LAB/blob/main/data.ipynb\" target=\"_parent\"><img src=\"https://colab.research.google.com/assets/colab-badge.svg\" alt=\"Open In Colab\"/></a>"
      ]
    },
    {
      "cell_type": "code",
      "execution_count": null,
      "metadata": {
        "id": "5fsOOBia0ZLN"
      },
      "outputs": [],
      "source": [
        "from google.colab import drive"
      ]
    },
    {
      "cell_type": "code",
      "source": [
        "%cd /content/drive/MyDrive/"
      ],
      "metadata": {
        "colab": {
          "base_uri": "https://localhost:8080/"
        },
        "id": "2bI_AP8V0dss",
        "outputId": "e1cae44b-caa0-449e-9559-19aa2e0a9ff3"
      },
      "execution_count": null,
      "outputs": [
        {
          "output_type": "stream",
          "name": "stdout",
          "text": [
            "[Errno 2] No such file or directory: '/content/drive/MyDrive/'\n",
            "/content\n"
          ]
        }
      ]
    },
    {
      "cell_type": "code",
      "source": [
        "drive.mount('/content/drive')"
      ],
      "metadata": {
        "colab": {
          "base_uri": "https://localhost:8080/"
        },
        "id": "_YoBtQYA0jVF",
        "outputId": "48baf076-0c9a-4999-b83f-532f0ebefc42"
      },
      "execution_count": null,
      "outputs": [
        {
          "output_type": "stream",
          "name": "stdout",
          "text": [
            "Mounted at /content/drive\n"
          ]
        }
      ]
    },
    {
      "cell_type": "code",
      "source": [
        "!mkdir mydata\n"
      ],
      "metadata": {
        "id": "QXslPQB006_y"
      },
      "execution_count": null,
      "outputs": []
    },
    {
      "cell_type": "code",
      "source": [
        "%cd mydata\n"
      ],
      "metadata": {
        "colab": {
          "base_uri": "https://localhost:8080/"
        },
        "id": "JQpiGApe0mOQ",
        "outputId": "21d22072-c009-4a7a-95da-2e6a5f310960"
      },
      "execution_count": null,
      "outputs": [
        {
          "output_type": "stream",
          "name": "stdout",
          "text": [
            "/content/mydata\n"
          ]
        }
      ]
    },
    {
      "cell_type": "code",
      "source": [
        "import pandas as pd\n",
        "import numpy as np"
      ],
      "metadata": {
        "id": "qXmC1NC_0_4q"
      },
      "execution_count": null,
      "outputs": []
    },
    {
      "cell_type": "code",
      "source": [
        "import csv"
      ],
      "metadata": {
        "id": "QCaQmNQI1Cji"
      },
      "execution_count": null,
      "outputs": []
    },
    {
      "cell_type": "code",
      "source": [
        "fields = ['time','weather','temprature','company','humidity','wind','enjoysports']"
      ],
      "metadata": {
        "id": "qHSR0mCk1GEK"
      },
      "execution_count": null,
      "outputs": []
    },
    {
      "cell_type": "code",
      "source": [
        "rows = [\n",
        "    ['morning','sunny','warm','yes','mild','strong','yes'],\n",
        "    ['evening','rainy','cold','no','mild','normal','no'],\n",
        "    ['morning','sunny','moderate','yes','normal','normal','yes'],\n",
        "    ['evening','sunny','cold','yes','high','strong','yes']\n",
        "    ]"
      ],
      "metadata": {
        "id": "ZRKwtkt31J3i"
      },
      "execution_count": null,
      "outputs": []
    },
    {
      "cell_type": "code",
      "source": [
        "filename = \"data.csv\""
      ],
      "metadata": {
        "id": "QPU0Dpyr1MFr"
      },
      "execution_count": null,
      "outputs": []
    },
    {
      "cell_type": "code",
      "source": [
        "with open('data.csv','w', newline='') as file:\n",
        "  csvwriter = csv.writer(file)\n",
        "  csvwriter.writerow(fields)\n",
        "  csvwriter.writerows(rows)"
      ],
      "metadata": {
        "id": "9KeT2mbl1OWl"
      },
      "execution_count": null,
      "outputs": []
    },
    {
      "cell_type": "code",
      "source": [
        "data = pd.read_csv('data.csv')\n",
        "print(data)"
      ],
      "metadata": {
        "colab": {
          "base_uri": "https://localhost:8080/"
        },
        "id": "m29a9EYU1RAV",
        "outputId": "0a138f98-bd3a-4640-8770-3156a879f18a"
      },
      "execution_count": null,
      "outputs": [
        {
          "output_type": "stream",
          "name": "stdout",
          "text": [
            "      time weather temprature company humidity    wind enjoysports\n",
            "0  morning   sunny       warm     yes     mild  strong         yes\n",
            "1  evening   rainy       cold      no     mild  normal          no\n",
            "2  morning   sunny   moderate     yes   normal  normal         yes\n",
            "3  evening   sunny       cold     yes     high  strong         yes\n"
          ]
        }
      ]
    },
    {
      "cell_type": "code",
      "source": [
        "concepts = np.array(data.iloc[:,0:-1])\n",
        "print(concepts)"
      ],
      "metadata": {
        "colab": {
          "base_uri": "https://localhost:8080/"
        },
        "id": "VKjjCj7q1S-A",
        "outputId": "361233fb-98c0-43b5-dd10-7ee36a3ec69e"
      },
      "execution_count": null,
      "outputs": [
        {
          "output_type": "stream",
          "name": "stdout",
          "text": [
            "[['morning' 'sunny' 'warm' 'yes' 'mild' 'strong']\n",
            " ['evening' 'rainy' 'cold' 'no' 'mild' 'normal']\n",
            " ['morning' 'sunny' 'moderate' 'yes' 'normal' 'normal']\n",
            " ['evening' 'sunny' 'cold' 'yes' 'high' 'strong']]\n"
          ]
        }
      ]
    },
    {
      "cell_type": "code",
      "source": [
        "target = np.array(data.iloc[:,-1])\n",
        "print(target)"
      ],
      "metadata": {
        "colab": {
          "base_uri": "https://localhost:8080/"
        },
        "id": "xgS_5srn1Yb2",
        "outputId": "5b11d0d7-bdb2-483b-b41b-6a93dcb38f85"
      },
      "execution_count": null,
      "outputs": [
        {
          "output_type": "stream",
          "name": "stdout",
          "text": [
            "['yes' 'no' 'yes' 'yes']\n"
          ]
        }
      ]
    },
    {
      "cell_type": "code",
      "source": [],
      "metadata": {
        "id": "qjakKX_K1atM"
      },
      "execution_count": null,
      "outputs": []
    }
  ]
}