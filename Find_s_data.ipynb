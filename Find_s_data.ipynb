{
  "nbformat": 4,
  "nbformat_minor": 0,
  "metadata": {
    "colab": {
      "provenance": [],
      "authorship_tag": "ABX9TyMEORR0nVf18wWM03MU2yB8",
      "include_colab_link": true
    },
    "kernelspec": {
      "name": "python3",
      "display_name": "Python 3"
    },
    "language_info": {
      "name": "python"
    }
  },
  "cells": [
    {
      "cell_type": "markdown",
      "metadata": {
        "id": "view-in-github",
        "colab_type": "text"
      },
      "source": [
        "<a href=\"https://colab.research.google.com/github/golu19102003/ML-LAB/blob/main/Find_s_data.ipynb\" target=\"_parent\"><img src=\"https://colab.research.google.com/assets/colab-badge.svg\" alt=\"Open In Colab\"/></a>"
      ]
    },
    {
      "cell_type": "code",
      "execution_count": null,
      "metadata": {
        "colab": {
          "base_uri": "https://localhost:8080/"
        },
        "id": "dkvin0wo1o8-",
        "outputId": "524e99e4-93d4-4fb7-8a2b-6c2c6ae83ebe"
      },
      "outputs": [
        {
          "output_type": "stream",
          "name": "stdout",
          "text": [
            "[Errno 2] No such file or directory: '/content/drive/MyDrive/'\n",
            "/content\n"
          ]
        }
      ],
      "source": [
        "from google.colab import drive\n",
        "%cd /content/drive/MyDrive/"
      ]
    },
    {
      "cell_type": "code",
      "source": [
        "drive.mount('/content/drive')"
      ],
      "metadata": {
        "colab": {
          "base_uri": "https://localhost:8080/"
        },
        "id": "lZZT4yEY13p2",
        "outputId": "1e597c1d-865b-4d4c-fa00-9edb16aaa55d"
      },
      "execution_count": null,
      "outputs": [
        {
          "output_type": "stream",
          "name": "stdout",
          "text": [
            "Mounted at /content/drive\n"
          ]
        }
      ]
    },
    {
      "cell_type": "code",
      "source": [
        "!mkdir mydata"
      ],
      "metadata": {
        "id": "cplbuY6_16xO"
      },
      "execution_count": null,
      "outputs": []
    },
    {
      "cell_type": "code",
      "source": [
        "%cd mydata"
      ],
      "metadata": {
        "colab": {
          "base_uri": "https://localhost:8080/"
        },
        "id": "nn-RvJqp2Cw_",
        "outputId": "426a8298-729e-4071-9248-044283a5b76b"
      },
      "execution_count": null,
      "outputs": [
        {
          "output_type": "stream",
          "name": "stdout",
          "text": [
            "/content/mydata\n"
          ]
        }
      ]
    },
    {
      "cell_type": "code",
      "source": [
        "import pandas as pd\n",
        "import numpy as np\n",
        "import csv"
      ],
      "metadata": {
        "id": "P_bzUEC42E1C"
      },
      "execution_count": null,
      "outputs": []
    },
    {
      "cell_type": "code",
      "source": [
        "data = pd.read_csv('/content/drive/MyDrive/Find_s_data.csv')"
      ],
      "metadata": {
        "id": "a7gQalsw2MKH"
      },
      "execution_count": null,
      "outputs": []
    },
    {
      "cell_type": "code",
      "source": [
        "concepts = np.array(data.iloc[:,0:-1])\n",
        "print(\"concepts value are \\n\" ,concepts)"
      ],
      "metadata": {
        "colab": {
          "base_uri": "https://localhost:8080/"
        },
        "id": "1qCIuVfo4SMp",
        "outputId": "9fef0c9a-e837-49e1-df18-ac9ee47517f9"
      },
      "execution_count": null,
      "outputs": [
        {
          "output_type": "stream",
          "name": "stdout",
          "text": [
            "concepts value are \n",
            " [['sunny' 'warm' 'normal' 'strong' 'warm' 'same']\n",
            " ['sunny' 'warm' 'high' 'strong' 'warm' 'same']\n",
            " ['rainy' 'cold' 'high' 'strong' 'warm' 'change']\n",
            " ['sunny' 'warm' 'high' 'strong' 'cool' 'change']]\n"
          ]
        }
      ]
    },
    {
      "cell_type": "code",
      "source": [
        "target = np.array(data.iloc[:,-1])\n",
        "print(\"target values are \\n\" ,target)"
      ],
      "metadata": {
        "colab": {
          "base_uri": "https://localhost:8080/"
        },
        "id": "0r6WZLAx2YST",
        "outputId": "1375de27-2dfd-49fc-ed96-d5eafaf3f1e9"
      },
      "execution_count": null,
      "outputs": [
        {
          "output_type": "stream",
          "name": "stdout",
          "text": [
            "target values are \n",
            " ['yes' 'yes' 'no' 'yes']\n"
          ]
        }
      ]
    },
    {
      "cell_type": "code",
      "source": [
        "def train(con , tar):\n",
        "  for i , val in enumerate(tar):\n",
        "    if val.lower() == 'yes':\n",
        "      specific_h = con[i].copy()\n",
        "      break\n",
        "  for i , val in enumerate(con):\n",
        "    if tar[i].lower() == 'yes':\n",
        "      for x in range(len(specific_h)):\n",
        "        if val[x] != specific_h[x]:\n",
        "          specific_h[x] = '?'\n",
        "        else:\n",
        "          pass\n",
        "  return specific_h"
      ],
      "metadata": {
        "id": "7iYkdAwB4WNx"
      },
      "execution_count": null,
      "outputs": []
    },
    {
      "cell_type": "code",
      "source": [
        "print(\"The final Hypothesis : \" , train(concepts,target))"
      ],
      "metadata": {
        "colab": {
          "base_uri": "https://localhost:8080/"
        },
        "id": "sYZOiPY14aAl",
        "outputId": "c34e0003-ca1d-4eb3-db2f-01b3b5082438"
      },
      "execution_count": null,
      "outputs": [
        {
          "output_type": "stream",
          "name": "stdout",
          "text": [
            "The final Hypothesis :  ['sunny' 'warm' '?' 'strong' '?' '?']\n"
          ]
        }
      ]
    },
    {
      "cell_type": "code",
      "source": [],
      "metadata": {
        "id": "XxuExyDj4gNE"
      },
      "execution_count": null,
      "outputs": []
    }
  ]
}