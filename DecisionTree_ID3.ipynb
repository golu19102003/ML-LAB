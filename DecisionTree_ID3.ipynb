{
  "nbformat": 4,
  "nbformat_minor": 0,
  "metadata": {
    "colab": {
      "provenance": [],
      "authorship_tag": "ABX9TyPW5nafadH8gNayOHswFF8s",
      "include_colab_link": true
    },
    "kernelspec": {
      "name": "python3",
      "display_name": "Python 3"
    },
    "language_info": {
      "name": "python"
    }
  },
  "cells": [
    {
      "cell_type": "markdown",
      "metadata": {
        "id": "view-in-github",
        "colab_type": "text"
      },
      "source": [
        "<a href=\"https://colab.research.google.com/github/golu19102003/ML-LAB/blob/main/DecisionTree_ID3.ipynb\" target=\"_parent\"><img src=\"https://colab.research.google.com/assets/colab-badge.svg\" alt=\"Open In Colab\"/></a>"
      ]
    },
    {
      "cell_type": "code",
      "execution_count": null,
      "metadata": {
        "colab": {
          "base_uri": "https://localhost:8080/"
        },
        "id": "pZldx5ra-bfr",
        "outputId": "7431302f-f33b-4064-f47c-c4e857d4798f"
      },
      "outputs": [
        {
          "output_type": "stream",
          "name": "stdout",
          "text": [
            "[Errno 2] No such file or directory: '/content/drive/MyDrive/'\n",
            "/content\n"
          ]
        }
      ],
      "source": [
        "from google.colab import drive\n",
        "%cd /content/drive/MyDrive/"
      ]
    },
    {
      "cell_type": "code",
      "source": [
        "drive.mount('/content/drive')"
      ],
      "metadata": {
        "colab": {
          "base_uri": "https://localhost:8080/"
        },
        "id": "khX-oB7o-j6s",
        "outputId": "a5cf3060-f800-4500-f532-c39a2635df5d"
      },
      "execution_count": null,
      "outputs": [
        {
          "output_type": "stream",
          "name": "stdout",
          "text": [
            "Mounted at /content/drive\n"
          ]
        }
      ]
    },
    {
      "cell_type": "code",
      "source": [
        "!mkdir mydata\n",
        "%cd mydata"
      ],
      "metadata": {
        "colab": {
          "base_uri": "https://localhost:8080/"
        },
        "id": "J1r3jdev-oe3",
        "outputId": "afdc2cd6-a607-4804-9deb-e0e7266646ae"
      },
      "execution_count": null,
      "outputs": [
        {
          "output_type": "stream",
          "name": "stdout",
          "text": [
            "/content/mydata\n"
          ]
        }
      ]
    },
    {
      "cell_type": "code",
      "source": [
        "import pandas as pd\n",
        "import numpy as np\n",
        "df_tennis = pd.read_csv('/content/drive/MyDrive/tennis.csv')\n",
        "print(df_tennis)"
      ],
      "metadata": {
        "colab": {
          "base_uri": "https://localhost:8080/"
        },
        "id": "AXphNPWN-wNK",
        "outputId": "06a76184-5827-45fb-8084-ca14ed6c4cf1"
      },
      "execution_count": null,
      "outputs": [
        {
          "output_type": "stream",
          "name": "stdout",
          "text": [
            "     Outlook Temperature Humidity    Wind Answer\n",
            "0      sunny         hot     high    weak     no\n",
            "1      sunny         hot     high  strong     no\n",
            "2   overcast         hot     high    weak    yes\n",
            "3       rain        mild     high    weak    yes\n",
            "4       rain        cool   normal    weak    yes\n",
            "5       rain        cool   normal  strong     no\n",
            "6   overcast        cool   normal  strong    yes\n",
            "7      sunny        mild     high    weak     no\n",
            "8      sunny        cool   normal    weak    yes\n",
            "9       rain        mild   normal    weak    yes\n",
            "10     sunny        mild   normal  strong    yes\n",
            "11  overcast        mild     high  strong    yes\n",
            "12  overcast         hot   normal    weak    yes\n",
            "13      rain        mild     high  strong     no\n"
          ]
        }
      ]
    },
    {
      "cell_type": "code",
      "source": [
        "df_tennis.keys()[0]"
      ],
      "metadata": {
        "colab": {
          "base_uri": "https://localhost:8080/",
          "height": 36
        },
        "id": "iAcwUTgn-9WH",
        "outputId": "267d77a5-b195-4801-acf0-04f1185b4a1a"
      },
      "execution_count": null,
      "outputs": [
        {
          "output_type": "execute_result",
          "data": {
            "text/plain": [
              "'Outlook'"
            ],
            "application/vnd.google.colaboratory.intrinsic+json": {
              "type": "string"
            }
          },
          "metadata": {},
          "execution_count": 16
        }
      ]
    },
    {
      "cell_type": "code",
      "source": [
        "from collections import Counter\n",
        "def entropy_list(a_list):\n",
        "    cnt = Counter(x for x in a_list)\n",
        "import math\n",
        "def entropy_list(a_list):\n",
        "    cnt = Counter(x for x in a_list)\n",
        "    num_instances = len(a_list)*1.0\n",
        "    probs = [x/num_instances for x in cnt.values()]\n",
        "  # Function to calculate the entropy of the probablity of observation\n",
        "    return entropy(probs)\n",
        "def entropy(probs):\n",
        "    return -sum(p*math.log(p,2) for p in probs if p>0)\n"
      ],
      "metadata": {
        "id": "aaN2UKW2_EBk"
      },
      "execution_count": null,
      "outputs": []
    },
    {
      "cell_type": "code",
      "source": [
        "# import math\n",
        "# def entropy(probs)\n",
        "# return sum ([-prob*math.log(prob,2) for prob in probs])"
      ],
      "metadata": {
        "id": "vZfozwRV_Vgg"
      },
      "execution_count": null,
      "outputs": []
    },
    {
      "cell_type": "code",
      "source": [
        "def entropy_of_list(a_list):\n",
        "    print(\"A_list\",a_list)\n",
        "    from collections import Counter\n",
        "    cnt = Counter(x for x in a_list)\n",
        "    print(\"\\n Class : \" , cnt)\n",
        "    print(\"No and Yes Classes : \",a_list.name,cnt)\n",
        "    num_instances = len(a_list)*1.0\n",
        "    print(\"\\n Number of Instances of the Current Sub Class is {0}:\".format(num_instances))\n",
        "    probs = [x/num_instances for x in cnt.values()]\n",
        "    print(\"\\n Class : \", min(cnt),max(cnt))\n",
        "    print(\"\\n Probablities of class {0} is {1} :\" .format(min(cnt),min(probs)))\n",
        "    print(\"\\n Probablities of class {0} is {1} :\" .format(max(cnt),max(probs)))\n",
        "    return entropy(probs)\n",
        "\n",
        "    print(\"\\n INPUT DATA SET FOR ENTROPY CALCULATION :\\n \", df_tennis['PlayTennis'])\n",
        "    total_entropy = entropy_of_list(df_tennis['PlayTennis'])\n",
        "    print(\"\\n Total Entropy of PlayTennis Data Set : \",total_entropy)"
      ],
      "metadata": {
        "id": "A4XAbo-R_Gpm"
      },
      "execution_count": null,
      "outputs": []
    },
    {
      "cell_type": "code",
      "source": [
        "def information_gain(df,split_attribute_name,target_attribute_name,trace=0):\n",
        "    print(\"Information Gain Calculation of \",split_attribute_name)\n",
        "    df_split = df.groupby(split_attribute_name)\n",
        "    for name,group in df_split:\n",
        "      print(\"Name: \",name)\n",
        "      print(\"Group: \",group)\n",
        "\n",
        "    nobs = len(df.index)*1.0\n",
        "    df_agg_ent = df_split.agg({target_attribute_name:[entropy_of_list,lambda x:len(x)/nobs]})[target_attribute_name]\n",
        "    print([target_attribute_name])\n",
        "    print(\"Entropy List\",entroy_of_list)\n",
        "    print(\"DFAGGENT\",df_agg_ent)\n",
        "    df_agg_ent.columns = ['Entropy','PropObservations']\n",
        "    new_entropy = sum(df_agg_ent['Entropy']*df_agg_ent['PropObservations'])\n",
        "    old_entropy = entropy_of_list(df[target_attribute_name])\n",
        "    return old_entropy - new_entropy\n",
        "print(\"Info-gain for Outlook is :\"+str(information_gain(df_tennis,'Outlook','Answer',trace=0)),\"\\n\")\n",
        "print(\"Info-gain for Humidity is :\"+str(information_gain(df_tennis,'Humidity','Answer',trace=0)),\"\\n\")\n",
        "print(\"Info-gain for Wind is :\"+str(information_gain(df_tennis,'Wind','Answer',trace=0)),\"\\n\")"
      ],
      "metadata": {
        "colab": {
          "base_uri": "https://localhost:8080/"
        },
        "id": "HPDLtrGy_JhC",
        "outputId": "43d5595c-7faa-454b-a93e-f0bd7d0043fd"
      },
      "execution_count": null,
      "outputs": [
        {
          "output_type": "stream",
          "name": "stdout",
          "text": [
            "Information Gain Calculation of  Outlook\n",
            "Name:  overcast\n",
            "Group:       Outlook Temperature Humidity    Wind Answer\n",
            "2   overcast         hot     high    weak    yes\n",
            "6   overcast        cool   normal  strong    yes\n",
            "11  overcast        mild     high  strong    yes\n",
            "12  overcast         hot   normal    weak    yes\n",
            "Name:  rain\n",
            "Group:     Outlook Temperature Humidity    Wind Answer\n",
            "3     rain        mild     high    weak    yes\n",
            "4     rain        cool   normal    weak    yes\n",
            "5     rain        cool   normal  strong     no\n",
            "9     rain        mild   normal    weak    yes\n",
            "13    rain        mild     high  strong     no\n",
            "Name:  sunny\n",
            "Group:     Outlook Temperature Humidity    Wind Answer\n",
            "0    sunny         hot     high    weak     no\n",
            "1    sunny         hot     high  strong     no\n",
            "7    sunny        mild     high    weak     no\n",
            "8    sunny        cool   normal    weak    yes\n",
            "10   sunny        mild   normal  strong    yes\n",
            "A_list 2     yes\n",
            "6     yes\n",
            "11    yes\n",
            "12    yes\n",
            "Name: Answer, dtype: object\n",
            "\n",
            " Class :  Counter({'yes': 4})\n",
            "No and Yes Classes :  Answer Counter({'yes': 4})\n",
            "\n",
            " Number of Instances of the Current Sub Class is 4.0:\n",
            "\n",
            " Class :  yes yes\n",
            "\n",
            " Probablities of class yes is 1.0 :\n",
            "\n",
            " Probablities of class yes is 1.0 :\n",
            "A_list 3     yes\n",
            "4     yes\n",
            "5      no\n",
            "9     yes\n",
            "13     no\n",
            "Name: Answer, dtype: object\n",
            "\n",
            " Class :  Counter({'yes': 3, 'no': 2})\n",
            "No and Yes Classes :  Answer Counter({'yes': 3, 'no': 2})\n",
            "\n",
            " Number of Instances of the Current Sub Class is 5.0:\n",
            "\n",
            " Class :  no yes\n",
            "\n",
            " Probablities of class no is 0.4 :\n",
            "\n",
            " Probablities of class yes is 0.6 :\n",
            "A_list 0      no\n",
            "1      no\n",
            "7      no\n",
            "8     yes\n",
            "10    yes\n",
            "Name: Answer, dtype: object\n",
            "\n",
            " Class :  Counter({'no': 3, 'yes': 2})\n",
            "No and Yes Classes :  Answer Counter({'no': 3, 'yes': 2})\n",
            "\n",
            " Number of Instances of the Current Sub Class is 5.0:\n",
            "\n",
            " Class :  no yes\n",
            "\n",
            " Probablities of class no is 0.4 :\n",
            "\n",
            " Probablities of class yes is 0.6 :\n",
            "['Answer']\n",
            "Entropy List <function entroy_of_list at 0x7d798b420a40>\n",
            "DFAGGENT           entropy_of_list  <lambda_0>\n",
            "Outlook                              \n",
            "overcast        -0.000000    0.285714\n",
            "rain             0.970951    0.357143\n",
            "sunny            0.970951    0.357143\n",
            "A_list 0      no\n",
            "1      no\n",
            "2     yes\n",
            "3     yes\n",
            "4     yes\n",
            "5      no\n",
            "6     yes\n",
            "7      no\n",
            "8     yes\n",
            "9     yes\n",
            "10    yes\n",
            "11    yes\n",
            "12    yes\n",
            "13     no\n",
            "Name: Answer, dtype: object\n",
            "\n",
            " Class :  Counter({'yes': 9, 'no': 5})\n",
            "No and Yes Classes :  Answer Counter({'yes': 9, 'no': 5})\n",
            "\n",
            " Number of Instances of the Current Sub Class is 14.0:\n",
            "\n",
            " Class :  no yes\n",
            "\n",
            " Probablities of class no is 0.35714285714285715 :\n",
            "\n",
            " Probablities of class yes is 0.6428571428571429 :\n",
            "Info-gain for Outlook is :0.2467498197744391 \n",
            "\n",
            "Information Gain Calculation of  Humidity\n",
            "Name:  high\n",
            "Group:       Outlook Temperature Humidity    Wind Answer\n",
            "0      sunny         hot     high    weak     no\n",
            "1      sunny         hot     high  strong     no\n",
            "2   overcast         hot     high    weak    yes\n",
            "3       rain        mild     high    weak    yes\n",
            "7      sunny        mild     high    weak     no\n",
            "11  overcast        mild     high  strong    yes\n",
            "13      rain        mild     high  strong     no\n",
            "Name:  normal\n",
            "Group:       Outlook Temperature Humidity    Wind Answer\n",
            "4       rain        cool   normal    weak    yes\n",
            "5       rain        cool   normal  strong     no\n",
            "6   overcast        cool   normal  strong    yes\n",
            "8      sunny        cool   normal    weak    yes\n",
            "9       rain        mild   normal    weak    yes\n",
            "10     sunny        mild   normal  strong    yes\n",
            "12  overcast         hot   normal    weak    yes\n",
            "A_list 0      no\n",
            "1      no\n",
            "2     yes\n",
            "3     yes\n",
            "7      no\n",
            "11    yes\n",
            "13     no\n",
            "Name: Answer, dtype: object\n",
            "\n",
            " Class :  Counter({'no': 4, 'yes': 3})\n",
            "No and Yes Classes :  Answer Counter({'no': 4, 'yes': 3})\n",
            "\n",
            " Number of Instances of the Current Sub Class is 7.0:\n",
            "\n",
            " Class :  no yes\n",
            "\n",
            " Probablities of class no is 0.42857142857142855 :\n",
            "\n",
            " Probablities of class yes is 0.5714285714285714 :\n",
            "A_list 4     yes\n",
            "5      no\n",
            "6     yes\n",
            "8     yes\n",
            "9     yes\n",
            "10    yes\n",
            "12    yes\n",
            "Name: Answer, dtype: object\n",
            "\n",
            " Class :  Counter({'yes': 6, 'no': 1})\n",
            "No and Yes Classes :  Answer Counter({'yes': 6, 'no': 1})\n",
            "\n",
            " Number of Instances of the Current Sub Class is 7.0:\n",
            "\n",
            " Class :  no yes\n",
            "\n",
            " Probablities of class no is 0.14285714285714285 :\n",
            "\n",
            " Probablities of class yes is 0.8571428571428571 :\n",
            "['Answer']\n",
            "Entropy List <function entroy_of_list at 0x7d798b420a40>\n",
            "DFAGGENT           entropy_of_list  <lambda_0>\n",
            "Humidity                             \n",
            "high             0.985228         0.5\n",
            "normal           0.591673         0.5\n",
            "A_list 0      no\n",
            "1      no\n",
            "2     yes\n",
            "3     yes\n",
            "4     yes\n",
            "5      no\n",
            "6     yes\n",
            "7      no\n",
            "8     yes\n",
            "9     yes\n",
            "10    yes\n",
            "11    yes\n",
            "12    yes\n",
            "13     no\n",
            "Name: Answer, dtype: object\n",
            "\n",
            " Class :  Counter({'yes': 9, 'no': 5})\n",
            "No and Yes Classes :  Answer Counter({'yes': 9, 'no': 5})\n",
            "\n",
            " Number of Instances of the Current Sub Class is 14.0:\n",
            "\n",
            " Class :  no yes\n",
            "\n",
            " Probablities of class no is 0.35714285714285715 :\n",
            "\n",
            " Probablities of class yes is 0.6428571428571429 :\n",
            "Info-gain for Humidity is :0.15183550136234136 \n",
            "\n",
            "Information Gain Calculation of  Wind\n",
            "Name:  strong\n",
            "Group:       Outlook Temperature Humidity    Wind Answer\n",
            "1      sunny         hot     high  strong     no\n",
            "5       rain        cool   normal  strong     no\n",
            "6   overcast        cool   normal  strong    yes\n",
            "10     sunny        mild   normal  strong    yes\n",
            "11  overcast        mild     high  strong    yes\n",
            "13      rain        mild     high  strong     no\n",
            "Name:  weak\n",
            "Group:       Outlook Temperature Humidity  Wind Answer\n",
            "0      sunny         hot     high  weak     no\n",
            "2   overcast         hot     high  weak    yes\n",
            "3       rain        mild     high  weak    yes\n",
            "4       rain        cool   normal  weak    yes\n",
            "7      sunny        mild     high  weak     no\n",
            "8      sunny        cool   normal  weak    yes\n",
            "9       rain        mild   normal  weak    yes\n",
            "12  overcast         hot   normal  weak    yes\n",
            "A_list 1      no\n",
            "5      no\n",
            "6     yes\n",
            "10    yes\n",
            "11    yes\n",
            "13     no\n",
            "Name: Answer, dtype: object\n",
            "\n",
            " Class :  Counter({'no': 3, 'yes': 3})\n",
            "No and Yes Classes :  Answer Counter({'no': 3, 'yes': 3})\n",
            "\n",
            " Number of Instances of the Current Sub Class is 6.0:\n",
            "\n",
            " Class :  no yes\n",
            "\n",
            " Probablities of class no is 0.5 :\n",
            "\n",
            " Probablities of class yes is 0.5 :\n",
            "A_list 0      no\n",
            "2     yes\n",
            "3     yes\n",
            "4     yes\n",
            "7      no\n",
            "8     yes\n",
            "9     yes\n",
            "12    yes\n",
            "Name: Answer, dtype: object\n",
            "\n",
            " Class :  Counter({'yes': 6, 'no': 2})\n",
            "No and Yes Classes :  Answer Counter({'yes': 6, 'no': 2})\n",
            "\n",
            " Number of Instances of the Current Sub Class is 8.0:\n",
            "\n",
            " Class :  no yes\n",
            "\n",
            " Probablities of class no is 0.25 :\n",
            "\n",
            " Probablities of class yes is 0.75 :\n",
            "['Answer']\n",
            "Entropy List <function entroy_of_list at 0x7d798b420a40>\n",
            "DFAGGENT         entropy_of_list  <lambda_0>\n",
            "Wind                               \n",
            "strong         1.000000    0.428571\n",
            "weak           0.811278    0.571429\n",
            "A_list 0      no\n",
            "1      no\n",
            "2     yes\n",
            "3     yes\n",
            "4     yes\n",
            "5      no\n",
            "6     yes\n",
            "7      no\n",
            "8     yes\n",
            "9     yes\n",
            "10    yes\n",
            "11    yes\n",
            "12    yes\n",
            "13     no\n",
            "Name: Answer, dtype: object\n",
            "\n",
            " Class :  Counter({'yes': 9, 'no': 5})\n",
            "No and Yes Classes :  Answer Counter({'yes': 9, 'no': 5})\n",
            "\n",
            " Number of Instances of the Current Sub Class is 14.0:\n",
            "\n",
            " Class :  no yes\n",
            "\n",
            " Probablities of class no is 0.35714285714285715 :\n",
            "\n",
            " Probablities of class yes is 0.6428571428571429 :\n",
            "Info-gain for Wind is :0.04812703040826927 \n",
            "\n"
          ]
        }
      ]
    },
    {
      "cell_type": "code",
      "source": [],
      "metadata": {
        "id": "7ZPaZQJC_Mm-"
      },
      "execution_count": null,
      "outputs": []
    }
  ]
}